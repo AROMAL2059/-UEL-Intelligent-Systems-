{
  "nbformat": 4,
  "nbformat_minor": 0,
  "metadata": {
    "colab": {
      "provenance": [],
      "authorship_tag": "ABX9TyMHOpPameYFJuai0sVFFTmD",
      "include_colab_link": true
    },
    "kernelspec": {
      "name": "python3",
      "display_name": "Python 3"
    },
    "language_info": {
      "name": "python"
    }
  },
  "cells": [
    {
      "cell_type": "markdown",
      "metadata": {
        "id": "view-in-github",
        "colab_type": "text"
      },
      "source": [
        "<a href=\"https://colab.research.google.com/github/AROMAL2059/-UEL-Intelligent-Systems-/blob/main/BCG_project_(Company_finacials).ipynb\" target=\"_parent\"><img src=\"https://colab.research.google.com/assets/colab-badge.svg\" alt=\"Open In Colab\"/></a>"
      ]
    },
    {
      "cell_type": "code",
      "execution_count": null,
      "metadata": {
        "id": "fEV2PAnZ8H-K"
      },
      "outputs": [],
      "source": [
        "import pandas as pd"
      ]
    },
    {
      "cell_type": "code",
      "source": [
        "from google.colab import drive\n",
        "drive.mount('/content/drive')"
      ],
      "metadata": {
        "colab": {
          "base_uri": "https://localhost:8080/"
        },
        "id": "THUmXN7FTHU-",
        "outputId": "dffd6be5-365a-407b-b4cf-0703e7cf984c"
      },
      "execution_count": null,
      "outputs": [
        {
          "output_type": "stream",
          "name": "stdout",
          "text": [
            "Mounted at /content/drive\n"
          ]
        }
      ]
    },
    {
      "cell_type": "code",
      "source": [
        "df = pd.read_excel('/content/drive/MyDrive/BCG-Project/BCG datset(learning) - Copy.xlsx')\n"
      ],
      "metadata": {
        "id": "OZbWEzCRhFVZ"
      },
      "execution_count": null,
      "outputs": []
    },
    {
      "cell_type": "code",
      "source": [
        "print(df)\n"
      ],
      "metadata": {
        "colab": {
          "base_uri": "https://localhost:8080/"
        },
        "id": "6w6W2yaAh9NQ",
        "outputId": "11590710-8411-4fcb-ec2c-14216e2f6bfd"
      },
      "execution_count": null,
      "outputs": [
        {
          "output_type": "stream",
          "name": "stdout",
          "text": [
            "  Comany Name    Fiscal Year  Total Revenue  Net Income  Total Assets  \\\n",
            "0       Apple  Sep. 30, 2023         383285       96995      352583.0   \n",
            "1       Apple  Sep. 24, 2022         394328       99803      352755.0   \n",
            "2       Apple  Sep. 25, 2021         365817       94680           NaN   \n",
            "3   Microsoft  Jun. 30, 2023         211915       72361      411976.0   \n",
            "4   Microsoft  Jun. 30, 2022         198270       72738      364840.0   \n",
            "5   Microsoft  Jun. 30, 2021         168088       61271           NaN   \n",
            "6       Tesla  Dec. 31, 2022          81462       12587       82338.0   \n",
            "7       Tesla  Dec. 31, 2021          53823        5644       62131.0   \n",
            "8       Tesla  Dec. 31, 2020          31536         862           NaN   \n",
            "\n",
            "   Total Liabilitites    Cash  \n",
            "0            290437.0  110543  \n",
            "1            302083.0  122151  \n",
            "2                 NaN  104038  \n",
            "3            205753.0   87582  \n",
            "4            198298.0   89035  \n",
            "5                 NaN   76740  \n",
            "6             36440.0   14724  \n",
            "7             30548.0   11497  \n",
            "8                 NaN    5943  \n"
          ]
        }
      ]
    },
    {
      "cell_type": "code",
      "source": [
        "# Convert the list of dictionaries to a DataFrame\n",
        "\n",
        "\n",
        "# Convert the 'Fiscal Year' column to datetime\n",
        "df['Fiscal Year'] = pd.to_datetime(df['Fiscal Year'])\n",
        "\n",
        "# Sort the data by 'Company Name' and 'Fiscal Year'\n",
        "df_sorted = df.sort_values(by=['Comany Name', 'Fiscal Year'])"
      ],
      "metadata": {
        "id": "CbGMxPEztBdw"
      },
      "execution_count": null,
      "outputs": []
    },
    {
      "cell_type": "code",
      "source": [
        "print(df_sorted)"
      ],
      "metadata": {
        "colab": {
          "base_uri": "https://localhost:8080/"
        },
        "id": "WpS-JUQUnRLl",
        "outputId": "2da7f71b-0eb9-4562-9fde-cbda0cf90c91"
      },
      "execution_count": null,
      "outputs": [
        {
          "output_type": "stream",
          "name": "stdout",
          "text": [
            "  Comany Name Fiscal Year  Total Revenue  Net Income  Total Assets  \\\n",
            "2       Apple  2021-09-25         365817       94680           NaN   \n",
            "1       Apple  2022-09-24         394328       99803      352755.0   \n",
            "0       Apple  2023-09-30         383285       96995      352583.0   \n",
            "5   Microsoft  2021-06-30         168088       61271           NaN   \n",
            "4   Microsoft  2022-06-30         198270       72738      364840.0   \n",
            "3   Microsoft  2023-06-30         211915       72361      411976.0   \n",
            "8       Tesla  2020-12-31          31536         862           NaN   \n",
            "7       Tesla  2021-12-31          53823        5644       62131.0   \n",
            "6       Tesla  2022-12-31          81462       12587       82338.0   \n",
            "\n",
            "   Total Liabilitites    Cash  \n",
            "2                 NaN  104038  \n",
            "1            302083.0  122151  \n",
            "0            290437.0  110543  \n",
            "5                 NaN   76740  \n",
            "4            198298.0   89035  \n",
            "3            205753.0   87582  \n",
            "8                 NaN    5943  \n",
            "7             30548.0   11497  \n",
            "6             36440.0   14724  \n"
          ]
        }
      ]
    },
    {
      "cell_type": "code",
      "source": [
        "print(df.columns)\n"
      ],
      "metadata": {
        "colab": {
          "base_uri": "https://localhost:8080/"
        },
        "id": "q4XuPAX8kRR8",
        "outputId": "26bb2916-e6c6-4e44-90ae-ecd4c05dcbab"
      },
      "execution_count": null,
      "outputs": [
        {
          "output_type": "stream",
          "name": "stdout",
          "text": [
            "Index(['Comany Name', 'Fiscal Year', 'Total Revenue', 'Net Income',\n",
            "       'Total Assets', 'Total Liabilitites', 'Cash'],\n",
            "      dtype='object')\n"
          ]
        }
      ]
    },
    {
      "cell_type": "code",
      "source": [
        "# Filter the DataFrame for the specific companies\n",
        "df_filtered = df_sorted[df_sorted['Comany Name'].isin(['Apple', 'Microsoft', 'Tesla'])]\n",
        "\n",
        "# Calculate the growth rates\n",
        "df_filtered['Revenue Growth (%)'] = df_filtered.groupby('Comany Name')['Total Revenue'].pct_change() * 100\n",
        "df_filtered['Net Income Growth (%)'] = df_filtered.groupby('Comany Name')['Net Income'].pct_change() * 100\n"
      ],
      "metadata": {
        "id": "LIGrA_zoiH5D"
      },
      "execution_count": null,
      "outputs": []
    },
    {
      "cell_type": "code",
      "source": [
        "print(df_filtered)\n"
      ],
      "metadata": {
        "colab": {
          "base_uri": "https://localhost:8080/"
        },
        "id": "K08L-Bzlkpdu",
        "outputId": "ecd08f5f-5b95-41be-a64b-a15381d28600"
      },
      "execution_count": null,
      "outputs": [
        {
          "output_type": "stream",
          "name": "stdout",
          "text": [
            "  Comany Name Fiscal Year  Total Revenue  Net Income  Total Assets  \\\n",
            "2       Apple  2021-09-25         365817       94680           NaN   \n",
            "1       Apple  2022-09-24         394328       99803      352755.0   \n",
            "0       Apple  2023-09-30         383285       96995      352583.0   \n",
            "5   Microsoft  2021-06-30         168088       61271           NaN   \n",
            "4   Microsoft  2022-06-30         198270       72738      364840.0   \n",
            "3   Microsoft  2023-06-30         211915       72361      411976.0   \n",
            "8       Tesla  2020-12-31          31536         862           NaN   \n",
            "7       Tesla  2021-12-31          53823        5644       62131.0   \n",
            "6       Tesla  2022-12-31          81462       12587       82338.0   \n",
            "\n",
            "   Total Liabilitites    Cash  Revenue Growth (%)  Net Income Growth (%)  \n",
            "2                 NaN  104038                 NaN                    NaN  \n",
            "1            302083.0  122151            7.793788               5.410858  \n",
            "0            290437.0  110543           -2.800461              -2.813543  \n",
            "5                 NaN   76740                 NaN                    NaN  \n",
            "4            198298.0   89035           17.956071              18.715216  \n",
            "3            205753.0   87582            6.882030              -0.518299  \n",
            "8                 NaN    5943                 NaN                    NaN  \n",
            "7             30548.0   11497           70.671613             554.756381  \n",
            "6             36440.0   14724           51.351653             123.015592  \n"
          ]
        }
      ]
    },
    {
      "cell_type": "code",
      "source": [
        "df_filtered.fillna(0, inplace=True)"
      ],
      "metadata": {
        "id": "cXaHs1StmH4K"
      },
      "execution_count": null,
      "outputs": []
    },
    {
      "cell_type": "code",
      "source": [
        "print(C)"
      ],
      "metadata": {
        "colab": {
          "base_uri": "https://localhost:8080/"
        },
        "id": "pTPedU5qmNuS",
        "outputId": "3c54f5ea-8201-4e96-ce8c-0b96092016e7"
      },
      "execution_count": null,
      "outputs": [
        {
          "output_type": "stream",
          "name": "stdout",
          "text": [
            "  Comany Name Fiscal Year  Total Revenue  Net Income  Total Assets  \\\n",
            "2       Apple  2021-09-25         365817       94680           0.0   \n",
            "1       Apple  2022-09-24         394328       99803      352755.0   \n",
            "0       Apple  2023-09-30         383285       96995      352583.0   \n",
            "5   Microsoft  2021-06-30         168088       61271           0.0   \n",
            "4   Microsoft  2022-06-30         198270       72738      364840.0   \n",
            "3   Microsoft  2023-06-30         211915       72361      411976.0   \n",
            "8       Tesla  2020-12-31          31536         862           0.0   \n",
            "7       Tesla  2021-12-31          53823        5644       62131.0   \n",
            "6       Tesla  2022-12-31          81462       12587       82338.0   \n",
            "\n",
            "   Total Liabilitites    Cash  Revenue Growth (%)  Net Income Growth (%)  \n",
            "2                 0.0  104038            0.000000               0.000000  \n",
            "1            302083.0  122151            7.793788               5.410858  \n",
            "0            290437.0  110543           -2.800461              -2.813543  \n",
            "5                 0.0   76740            0.000000               0.000000  \n",
            "4            198298.0   89035           17.956071              18.715216  \n",
            "3            205753.0   87582            6.882030              -0.518299  \n",
            "8                 0.0    5943            0.000000               0.000000  \n",
            "7             30548.0   11497           70.671613             554.756381  \n",
            "6             36440.0   14724           51.351653             123.015592  \n"
          ]
        }
      ]
    },
    {
      "cell_type": "code",
      "source": [
        "summary = df_filtered.groupby('Comany Name').agg({\n",
        "    'Revenue Growth (%)': 'mean',\n",
        "    'Net Income Growth (%)': 'mean'\n",
        "}).reset_index()"
      ],
      "metadata": {
        "id": "HwocrqgsmZzv"
      },
      "execution_count": null,
      "outputs": []
    },
    {
      "cell_type": "code",
      "source": [
        "print(\"\\nYear-over-Year Average Growth Rates (%):\")\n",
        "print(summary)"
      ],
      "metadata": {
        "colab": {
          "base_uri": "https://localhost:8080/"
        },
        "id": "6PPHrDoamiWo",
        "outputId": "23aa1e34-066e-4574-9f5b-5a5540c26bca"
      },
      "execution_count": null,
      "outputs": [
        {
          "output_type": "stream",
          "name": "stdout",
          "text": [
            "\n",
            "Year-over-Year Average Growth Rates (%):\n",
            "  Comany Name  Revenue Growth (%)  Net Income Growth (%)\n",
            "0       Apple            1.664442               0.865772\n",
            "1   Microsoft            8.279367               6.065639\n",
            "2       Tesla           40.674422             225.923991\n"
          ]
        }
      ]
    },
    {
      "cell_type": "code",
      "source": [
        "# Step 1: Import libraries\n",
        "import pandas as pd\n",
        "from flask import Flask, request, jsonify\n",
        "\n",
        "\n",
        "\n",
        "# Verify the DataFrame structure\n",
        "print(\"DataFrame Structure:\")\n",
        "print(df_filtered)\n",
        "\n",
        "# Step 3: Basic Chatbot Development\n",
        "app = Flask(__name__)\n",
        "\n",
        "# Chatbot logic\n",
        "def get_response(query):\n",
        "    try:\n",
        "        if query.lower() == \"what is the total revenue?\":\n",
        "            total_revenue = df_filtered['Total Revenue'].sum()\n",
        "            return f\"The total revenue is ${total_revenue}.\"\n",
        "        elif query.lower() == \"how has net income changed over the last year?\":\n",
        "            net_income_change = df_filtered['Net Income'].pct_change().iloc[-1] * 100\n",
        "            return f\"Net income has changed by {net_income_change:.2f}% over the last year.\"\n",
        "        else:\n",
        "            return \"Sorry, I don't understand that query.\"\n",
        "    except KeyError as e:\n",
        "        return f\"Error: Column {e} not found in the DataFrame.\"\n",
        "\n",
        "@app.route('/chatbot', methods=['GET'])\n",
        "def chatbot():\n",
        "    query = request.args.get('query')\n",
        "    response = get_response(query)\n",
        "    return jsonify({'response': response})\n",
        "\n",
        "# Run Flask app\n",
        "from threading import Thread\n",
        "\n",
        "def run_app():\n",
        "    app.run(host='0.0.0.0', port=5000)\n",
        "\n",
        "Thread(target=run_app).start()\n",
        "\n",
        "# Interact with the chatbot\n",
        "import requests\n",
        "\n",
        "query = \"What is the total revenue?\"\n",
        "response = requests.get(f'http://127.0.0.1:5000/chatbot?query={query}')\n",
        "print(response.json())\n"
      ],
      "metadata": {
        "colab": {
          "base_uri": "https://localhost:8080/"
        },
        "id": "ASpsmHuBche6",
        "outputId": "73e46ccb-6cf0-4d8c-e92d-c2ceb9a9d1c9"
      },
      "execution_count": null,
      "outputs": [
        {
          "output_type": "stream",
          "name": "stderr",
          "text": [
            "INFO:werkzeug:127.0.0.1 - - [23/May/2024 12:49:43] \"GET /chatbot?query=What%20is%20the%20total%20revenue? HTTP/1.1\" 200 -\n"
          ]
        },
        {
          "output_type": "stream",
          "name": "stdout",
          "text": [
            "DataFrame Structure:\n",
            "  Comany Name Fiscal Year  Total Revenue  Net Income  Total Assets  \\\n",
            "2       Apple  2021-09-25         365817       94680           0.0   \n",
            "1       Apple  2022-09-24         394328       99803      352755.0   \n",
            "0       Apple  2023-09-30         383285       96995      352583.0   \n",
            "5   Microsoft  2021-06-30         168088       61271           0.0   \n",
            "4   Microsoft  2022-06-30         198270       72738      364840.0   \n",
            "3   Microsoft  2023-06-30         211915       72361      411976.0   \n",
            "8       Tesla  2020-12-31          31536         862           0.0   \n",
            "7       Tesla  2021-12-31          53823        5644       62131.0   \n",
            "6       Tesla  2022-12-31          81462       12587       82338.0   \n",
            "\n",
            "   Total Liabilitites    Cash  Revenue Growth (%)  Net Income Growth (%)  \n",
            "2                 0.0  104038            0.000000               0.000000  \n",
            "1            302083.0  122151            7.793788               5.410858  \n",
            "0            290437.0  110543           -2.800461              -2.813543  \n",
            "5                 0.0   76740            0.000000               0.000000  \n",
            "4            198298.0   89035           17.956071              18.715216  \n",
            "3            205753.0   87582            6.882030              -0.518299  \n",
            "8                 0.0    5943            0.000000               0.000000  \n",
            "7             30548.0   11497           70.671613             554.756381  \n",
            "6             36440.0   14724           51.351653             123.015592  \n",
            " * Serving Flask app '__main__'\n",
            "{'response': 'The total revenue is $1888524.'}\n",
            " * Debug mode: off\n"
          ]
        },
        {
          "output_type": "stream",
          "name": "stderr",
          "text": [
            "Address already in use\n",
            "Port 5000 is in use by another program. Either identify and stop that program, or start the server with a different port.\n"
          ]
        }
      ]
    },
    {
      "cell_type": "code",
      "source": [
        "\n"
      ],
      "metadata": {
        "id": "v41_gMw0cxfl"
      },
      "execution_count": null,
      "outputs": []
    }
  ]
}